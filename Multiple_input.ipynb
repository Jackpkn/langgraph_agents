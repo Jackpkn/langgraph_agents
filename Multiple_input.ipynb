{
 "cells": [
  {
   "cell_type": "code",
   "id": "initial_id",
   "metadata": {
    "collapsed": true,
    "ExecuteTime": {
     "end_time": "2025-07-07T09:41:20.804438Z",
     "start_time": "2025-07-07T09:41:20.801567Z"
    }
   },
   "source": [
    "from typing import List, TypedDict\n",
    "from langgraph.graph import StateGraph"
   ],
   "outputs": [],
   "execution_count": 3
  },
  {
   "metadata": {
    "ExecuteTime": {
     "end_time": "2025-07-07T09:42:07.685758Z",
     "start_time": "2025-07-07T09:42:07.677387Z"
    }
   },
   "cell_type": "code",
   "source": [
    "class AgentState(TypedDict):\n",
    "    values: List[int]\n",
    "    name: str\n",
    "    result: str"
   ],
   "id": "8d5e94a6e8f37e0",
   "outputs": [],
   "execution_count": 4
  },
  {
   "metadata": {
    "ExecuteTime": {
     "end_time": "2025-07-07T09:44:30.111229Z",
     "start_time": "2025-07-07T09:44:30.106185Z"
    }
   },
   "cell_type": "code",
   "source": [
    "def process_values(state: AgentState)->AgentState:\n",
    "    \"\"\"This function handles multiple different input\"\"\"\n",
    "    state['result'] = f\"Hello {state['name']} the sum of your values is {sum(state['values'])}\"\n",
    "    return state"
   ],
   "id": "969087a1479e8bbf",
   "outputs": [],
   "execution_count": 5
  },
  {
   "metadata": {
    "ExecuteTime": {
     "end_time": "2025-07-07T09:53:32.327324Z",
     "start_time": "2025-07-07T09:53:32.321515Z"
    }
   },
   "cell_type": "code",
   "source": [
    "builder = StateGraph(AgentState)\n",
    "builder.add_node(\"process_values\", process_values)\n",
    "builder.set_entry_point(\"process_values\")\n",
    "builder.set_entry_point(\"process_values\")\n",
    "app = builder.compile()"
   ],
   "id": "fb25f1e04143ffc",
   "outputs": [],
   "execution_count": 11
  },
  {
   "metadata": {
    "ExecuteTime": {
     "end_time": "2025-07-07T09:47:29.384121Z",
     "start_time": "2025-07-07T09:47:29.377526Z"
    }
   },
   "cell_type": "code",
   "source": [
    "result = app.invoke({\n",
    "    \"name\": \"Alice\",\n",
    "    \"values\": [1, 2, 3, 4, 5]})"
   ],
   "id": "1737ff2e955c042c",
   "outputs": [],
   "execution_count": 8
  },
  {
   "metadata": {
    "ExecuteTime": {
     "end_time": "2025-07-07T09:48:25.541870Z",
     "start_time": "2025-07-07T09:48:25.537020Z"
    }
   },
   "cell_type": "code",
   "source": "print(result['result'])",
   "id": "47d6dbb4156f0e91",
   "outputs": [
    {
     "name": "stdout",
     "output_type": "stream",
     "text": [
      "Hello Alice the sum of your values is 15\n"
     ]
    }
   ],
   "execution_count": 10
  }
 ],
 "metadata": {
  "kernelspec": {
   "display_name": "Python 3",
   "language": "python",
   "name": "python3"
  },
  "language_info": {
   "codemirror_mode": {
    "name": "ipython",
    "version": 2
   },
   "file_extension": ".py",
   "mimetype": "text/x-python",
   "name": "python",
   "nbconvert_exporter": "python",
   "pygments_lexer": "ipython2",
   "version": "2.7.6"
  }
 },
 "nbformat": 4,
 "nbformat_minor": 5
}
