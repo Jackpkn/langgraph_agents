{
 "cells": [
  {
   "cell_type": "code",
   "id": "initial_id",
   "metadata": {
    "collapsed": true,
    "ExecuteTime": {
     "end_time": "2025-07-07T09:58:35.330219Z",
     "start_time": "2025-07-07T09:58:34.932482Z"
    }
   },
   "source": [
    "from typing import  List, TypedDict\n",
    "from langgraph.graph import  StateGraph"
   ],
   "outputs": [],
   "execution_count": 1
  },
  {
   "metadata": {
    "ExecuteTime": {
     "end_time": "2025-07-07T10:00:36.034146Z",
     "start_time": "2025-07-07T10:00:36.028935Z"
    }
   },
   "cell_type": "code",
   "source": [
    "class AgentState(TypedDict):\n",
    "    name: str\n",
    "    values: List[int]\n",
    "    operation: str\n",
    "    result: str"
   ],
   "id": "f3f94f3dc51b6aab",
   "outputs": [],
   "execution_count": 3
  },
  {
   "metadata": {
    "ExecuteTime": {
     "end_time": "2025-07-07T10:03:08.980528Z",
     "start_time": "2025-07-07T10:03:08.973265Z"
    }
   },
   "cell_type": "code",
   "source": [
    "from math import prod\n",
    "\n",
    "\n",
    "def process_values(state: AgentState)-> AgentState:\n",
    "    \"\"\"this function handles multiple different input\"\"\"\n",
    "    if state['operation'] == '+':\n",
    "        state['result'] = f\"hello {state['name']} the sum of your values is {sum(state['values'])}\"\n",
    "    else:\n",
    "        state['result'] = f\"hello {state['name']} the product of your values is {prod(state['values'])}\"\n",
    "\n",
    "    return state"
   ],
   "id": "bb93bedfc2f4a02d",
   "outputs": [],
   "execution_count": 4
  },
  {
   "metadata": {
    "ExecuteTime": {
     "end_time": "2025-07-07T10:03:52.224082Z",
     "start_time": "2025-07-07T10:03:52.215287Z"
    }
   },
   "cell_type": "code",
   "source": [
    "graph = StateGraph(AgentState)\n",
    "graph.add_node('process_values', process_values)\n",
    "graph.set_entry_point('process_values')\n",
    "graph.set_finish_point(\"process_values\")\n",
    "app = graph.compile()"
   ],
   "id": "30848025084064f8",
   "outputs": [],
   "execution_count": 5
  },
  {
   "metadata": {
    "ExecuteTime": {
     "end_time": "2025-07-07T10:04:11.956648Z",
     "start_time": "2025-07-07T10:04:11.947519Z"
    }
   },
   "cell_type": "code",
   "source": [
    "print(app.invoke({\n",
    "    \"name\": \"Alice\",\n",
    "    \"values\": [1, 2, 3, 4, 5],\n",
    "    \"operation\": \"+\"\n",
    "}))"
   ],
   "id": "ce1a1fd5bdac0dde",
   "outputs": [
    {
     "name": "stdout",
     "output_type": "stream",
     "text": [
      "{'name': 'Alice', 'values': [1, 2, 3, 4, 5], 'operation': '+', 'result': 'hello Alice the sum of your values is 15'}\n"
     ]
    }
   ],
   "execution_count": 6
  },
  {
   "metadata": {
    "ExecuteTime": {
     "end_time": "2025-07-07T10:04:54.201901Z",
     "start_time": "2025-07-07T10:04:54.196393Z"
    }
   },
   "cell_type": "code",
   "source": [
    "print(app.invoke({\n",
    "    \"name\": \"jack\",\n",
    "    \"values\": [1, 2, 3, 4, 5],\n",
    "    \"operation\": '*'\n",
    "}))"
   ],
   "id": "1e87bf336a02394c",
   "outputs": [
    {
     "name": "stdout",
     "output_type": "stream",
     "text": [
      "{'name': 'jack', 'values': [1, 2, 3, 4, 5], 'operation': '*', 'result': 'hello jack the product of your values is 120'}\n"
     ]
    }
   ],
   "execution_count": 7
  },
  {
   "metadata": {
    "ExecuteTime": {
     "end_time": "2025-07-07T10:05:43.363220Z",
     "start_time": "2025-07-07T10:05:43.356679Z"
    }
   },
   "cell_type": "code",
   "source": [
    "result = app.invoke({\n",
    "    \"name\": \"jack\",\n",
    "    \"values\": [1, 2, 3, 4, 5],\n",
    "    \"operation\": '*'\n",
    "})\n",
    "print(result['result'])"
   ],
   "id": "9f733f30b52851d4",
   "outputs": [
    {
     "name": "stdout",
     "output_type": "stream",
     "text": [
      "hello jack the product of your values is 120\n"
     ]
    }
   ],
   "execution_count": 8
  }
 ],
 "metadata": {
  "kernelspec": {
   "display_name": "Python 3",
   "language": "python",
   "name": "python3"
  },
  "language_info": {
   "codemirror_mode": {
    "name": "ipython",
    "version": 2
   },
   "file_extension": ".py",
   "mimetype": "text/x-python",
   "name": "python",
   "nbconvert_exporter": "python",
   "pygments_lexer": "ipython2",
   "version": "2.7.6"
  }
 },
 "nbformat": 4,
 "nbformat_minor": 5
}
